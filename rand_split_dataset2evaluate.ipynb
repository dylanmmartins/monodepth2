{
 "cells": [
  {
   "cell_type": "code",
   "execution_count": 1,
   "metadata": {},
   "outputs": [],
   "source": [
    "from glob import glob\n",
    "import os"
   ]
  },
  {
   "cell_type": "code",
   "execution_count": 2,
   "metadata": {},
   "outputs": [],
   "source": [
    "in_path = '/home/niell_lab/data/freely_moving_ephys/depth_datasets/112920_fm1_worldcam/'\n",
    "dataset = glob(in_path + '*.jpg')"
   ]
  },
  {
   "cell_type": "code",
   "execution_count": 3,
   "metadata": {},
   "outputs": [
    {
     "data": {
      "text/plain": [
       "['/home/niell_lab/data/freely_moving_ephys/depth_datasets/112920_fm1_worldcam/112920_G6H27P8LT_control_Rig2_fm1_WORLDdeinter_frame-018604.jpg',\n",
       " '/home/niell_lab/data/freely_moving_ephys/depth_datasets/112920_fm1_worldcam/112920_G6H27P8LT_control_Rig2_fm1_WORLDdeinter_frame-035353.jpg',\n",
       " '/home/niell_lab/data/freely_moving_ephys/depth_datasets/112920_fm1_worldcam/112920_G6H27P8LT_control_Rig2_fm1_WORLDdeinter_frame-048448.jpg',\n",
       " '/home/niell_lab/data/freely_moving_ephys/depth_datasets/112920_fm1_worldcam/112920_G6H27P8LT_control_Rig2_fm1_WORLDdeinter_frame-037584.jpg',\n",
       " '/home/niell_lab/data/freely_moving_ephys/depth_datasets/112920_fm1_worldcam/112920_G6H27P8LT_control_Rig2_fm1_WORLDdeinter_frame-074303.jpg']"
      ]
     },
     "execution_count": 3,
     "metadata": {},
     "output_type": "execute_result"
    }
   ],
   "source": [
    "dataset[:5]"
   ]
  },
  {
   "cell_type": "code",
   "execution_count": 4,
   "metadata": {},
   "outputs": [],
   "source": [
    "monodepth_testsplit = '/home/niell_lab/Documents/github/monodepth2-dmm/splits/freelymoving/test_files.txt'"
   ]
  },
  {
   "cell_type": "code",
   "execution_count": 6,
   "metadata": {},
   "outputs": [],
   "source": [
    "text_file = open(monodepth_testsplit, \"w\")\n",
    "for i in dataset:\n",
    "    base, tail = os.path.split(i)[-1].split('-')\n",
    "    num = tail.split('.')[0]\n",
    "    text_file.write(base+' '+str(num)+' m\\n')\n",
    "text_file.close()"
   ]
  },
  {
   "cell_type": "code",
   "execution_count": null,
   "metadata": {},
   "outputs": [],
   "source": []
  }
 ],
 "metadata": {
  "kernelspec": {
   "display_name": "pytorch-depth",
   "language": "python",
   "name": "pytorch-depth"
  },
  "language_info": {
   "codemirror_mode": {
    "name": "ipython",
    "version": 3
   },
   "file_extension": ".py",
   "mimetype": "text/x-python",
   "name": "python",
   "nbconvert_exporter": "python",
   "pygments_lexer": "ipython3",
   "version": "3.6.6"
  }
 },
 "nbformat": 4,
 "nbformat_minor": 4
}
